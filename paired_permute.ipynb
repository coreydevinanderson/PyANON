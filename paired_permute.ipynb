{
  "nbformat": 4,
  "nbformat_minor": 0,
  "metadata": {
    "colab": {
      "name": "paired_permute.ipynb",
      "provenance": [],
      "collapsed_sections": []
    },
    "kernelspec": {
      "name": "python3",
      "display_name": "Python 3"
    },
    "language_info": {
      "name": "python"
    }
  },
  "cells": [
    {
      "cell_type": "code",
      "metadata": {
        "id": "3R9Hfi1oqBhD"
      },
      "source": [
        "import numpy as np\n",
        "import random\n",
        "import math\n",
        "import statistics as st"
      ],
      "execution_count": null,
      "outputs": []
    },
    {
      "cell_type": "code",
      "metadata": {
        "id": "YRMyE3GH8wkk"
      },
      "source": [
        "def paired_permute(x, y, mu = 0, nsims = 999, alternative = \"two_sided\"):\n",
        "  \n",
        "  xx = np.array(x)\n",
        "  yy = np.array(y)\n",
        "  diff = xx - yy\n",
        "  mean_diff = st.mean(diff)\n",
        "  SE = st.stdev(diff) / math.sqrt(len(diff))\n",
        "  t_obs = (mean_diff - mu) / SE\n",
        "\n",
        "  sign_list = [-1, 1]\n",
        "  sim_vect = [None] * nsims\n",
        "  \n",
        "  for i in range(nsims):\n",
        "    sign_vect = random.choices(sign_list, k = len(x))\n",
        "    sign_array = np.array(sign_vect)\n",
        "    sign_diff = sign_array * diff\n",
        "    mean_sign_diff = st.mean(sign_diff)\n",
        "    SE_sign = st.stdev(sign_diff) / math.sqrt(len(sign_diff))\n",
        "    sim_vect[i] = (mean_sign_diff - mu) / SE_sign\n",
        "    sim_array = np.array(sim_vect)\n",
        "  \n",
        "  sim_array = np.append(sim_array, t_obs)\n",
        "  \n",
        "  if t_obs >= 0 and alternative == \"two_sided\":\n",
        "    p_val = 2 * (sum(sim_array >= t_obs) / len(sim_array))\n",
        "  elif t_obs < 0 and alternative == \"two_sided\":\n",
        "    p_val = 2 * (sum(sim_array <= t_obs) / len(sim_array))\n",
        "  \n",
        "  if alternative == \"greater\":\n",
        "    p_val = sum(sim_array >= t_obs) / len(sim_array)\n",
        "  elif alternative == \"less\":\n",
        "    p_val = sum(sim_array <= t_obs) / len(sim_array)\n",
        "  \n",
        "  out_dict = {\"t_score\": t_obs, \"P_value\": p_val}\n",
        "\n",
        "  print(f\"t_score: {t_obs}\")\n",
        "  print(f\"P_value: {p_val}\")\n",
        "  return out_dict"
      ],
      "execution_count": null,
      "outputs": []
    }
  ]
}