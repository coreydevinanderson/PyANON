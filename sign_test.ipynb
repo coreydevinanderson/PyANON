{
  "nbformat": 4,
  "nbformat_minor": 0,
  "metadata": {
    "colab": {
      "name": "sign_test.ipynb",
      "provenance": [],
      "collapsed_sections": []
    },
    "kernelspec": {
      "display_name": "Python 3",
      "name": "python3"
    },
    "language_info": {
      "name": "python"
    }
  },
  "cells": [
    {
      "cell_type": "code",
      "metadata": {
        "id": "EbElut6npXlv"
      },
      "source": [
        "import numpy as np\n",
        "from scipy.stats import binom\n",
        "import statistics as st"
      ],
      "execution_count": 19,
      "outputs": []
    },
    {
      "cell_type": "code",
      "metadata": {
        "id": "N7-iFO5ILxNZ"
      },
      "source": [
        "def sign_test(x, y = None, md = 0, alternative = \"two_sided\"):\n",
        "\n",
        "  # One sample sign test\n",
        "  if y is None:\n",
        "    \n",
        "    x_minus_md = [(i - md) for i in x]\n",
        "    x_md_clean = [j for j in x_minus_md if j != 0]  # remove the zeroes\n",
        "    n_adj = len(x_md_clean)  # sample size after removing the zeroes\n",
        "    pos_count = len([k for k in x_md_clean if k > 0])\n",
        "\n",
        "    med_count = st.median(np.arange(0, n_adj + 1))\n",
        "    \n",
        "    if (n_adj / 2) == pos_count:\n",
        "      exception = True\n",
        "    else:\n",
        "      exception = False\n",
        "    \n",
        "    if (alternative == \"two_sided\") and (exception == True):\n",
        "      p_val = 1\n",
        "    elif (alternative == \"two_sided\") and (exception == False) and (pos_count >= med_count):\n",
        "      p_val = 2 * (1 - binom.cdf((pos_count - 1), n_adj, 0.5))\n",
        "    elif (alternative == \"two_sided\") and (exception == False) and (pos_count < med_count):\n",
        "      p_val = 2 * binom.cdf(pos_count, n_adj, 0.5)\n",
        "  \n",
        "    if alternative == \"greater\":\n",
        "      p_val = 1 - binom.cdf(pos_count, n_adj, 0.5)\n",
        "    elif alternative == \"less\":\n",
        "      p_val = binom.cdf(pos_count, n_adj, 0.5)\n",
        "      \n",
        "  # Paired sign test\n",
        "  elif y is not None:\n",
        "    \n",
        "    xx = np.array(x)\n",
        "    yy = np.array(y)\n",
        "    diff = xx - yy\n",
        "    diff_list = diff.tolist()\n",
        "    diff_clean = [j for j in diff_list if j != 0]\n",
        "    n_adj = len(diff_clean)\n",
        "    pos_count = len([k for k in diff_clean if k > 0])\n",
        "\n",
        "    med_count = st.median(np.arange(0, n_adj + 1))\n",
        "\n",
        "    if (n_adj / 2) == pos_count:\n",
        "      exception = True\n",
        "    else:\n",
        "      exception = False\n",
        "\n",
        "    if (alternative == \"two_sided\") and (exception == True):\n",
        "      p_val = 1\n",
        "    elif (alternative == \"two_sided\") and (exception == False) and (pos_count >= med_count):\n",
        "      p_val = 2 * (1 - binom.cdf((pos_count - 1), n_adj, 0.5))\n",
        "    elif (alternative == \"two_sided\") and (exception == False) and (pos_count < med_count):\n",
        "      p_val = 2 * binom.cdf(pos_count, n_adj, 0.5)\n",
        "\n",
        "    if alternative == \"greater\":\n",
        "      p_val = 1 - binom.cdf(pos_count, n_adj, 0.5)\n",
        "    elif alternative == \"less\":\n",
        "      p_val = binom.cdf(pos_count, n_adj, 0.5)\n",
        " \n",
        "  out_dict = {\"s\": pos_count, \n",
        "              \"n_adj\": n_adj, \n",
        "              \"n\": len(x), \n",
        "              \"P_value\": p_val}\n",
        "\n",
        "  print(f\"Number of positives: {pos_count} out of a sample size of {n_adj}\")\n",
        "  return out_dict\n"
      ],
      "execution_count": 31,
      "outputs": []
    }
  ]
}