{
  "nbformat": 4,
  "nbformat_minor": 0,
  "metadata": {
    "colab": {
      "name": "paired_permute.ipynb",
      "provenance": [],
      "collapsed_sections": []
    },
    "kernelspec": {
      "name": "python3",
      "display_name": "Python 3"
    },
    "language_info": {
      "name": "python"
    }
  },
  "cells": [
    {
      "cell_type": "code",
      "metadata": {
        "id": "3R9Hfi1oqBhD"
      },
      "source": [
        "import numpy as np\n",
        "from scipy.stats import norm\n",
        "import pandas as pd\n",
        "import random\n",
        "import math\n",
        "import statistics as st"
      ],
      "execution_count": 75,
      "outputs": []
    },
    {
      "cell_type": "code",
      "metadata": {
        "id": "YRMyE3GH8wkk"
      },
      "source": [
        "def paired_permute(x, y, mu = 0, nsims = 999, alternative = \"two_sided\"):\n",
        "  \n",
        "  xx = np.array(x)\n",
        "  yy = np.array(y)\n",
        "  diff = xx - yy\n",
        "  mean_diff = st.mean(diff)\n",
        "  SE = st.stdev(diff) / math.sqrt(len(diff))\n",
        "  t_obs = (mean_diff - mu) / SE\n",
        "\n",
        "  sign_list = [-1, 1]\n",
        "  sim_vect = [None] * nsims\n",
        "  \n",
        "  for i in range(nsims):\n",
        "    sign_vect = random.choices(sign_list, k = len(x))\n",
        "    sign_array = np.array(sign_vect)\n",
        "    sign_diff = sign_array * diff\n",
        "    mean_sign_diff = st.mean(sign_diff)\n",
        "    SE_sign = st.stdev(sign_diff) / math.sqrt(len(sign_diff))\n",
        "    sim_vect[i] = (mean_sign_diff - mu) / SE_sign\n",
        "    sim_array = np.array(sim_vect)\n",
        "  \n",
        "  sim_array = np.append(sim_array, t_obs)\n",
        "  \n",
        "  if t_obs >= 0 and alternative == \"two_sided\":\n",
        "    p_val = 2 * (sum(sim_array >= t_obs) / len(sim_array))\n",
        "  elif t_obs < 0 and alternative == \"two_sided\":\n",
        "    p_val = 2 * (sum(sim_array <= t_obs) / len(sim_array))\n",
        "  \n",
        "  if alternative == \"greater\":\n",
        "    p_val = sum(sim_array >= t_obs) / len(sim_array)\n",
        "  elif alternative == \"less\":\n",
        "    p_val = sum(sim_array <= t_obs) / len(sim_array)\n",
        "  \n",
        "  out_dict = {\"t_score\": t_obs, \"P_value\": p_val}\n",
        "\n",
        "  print(f\"t_score: {t_obs}\")\n",
        "  print(f\"P_value: {p_val}\")\n",
        "  return out_dict"
      ],
      "execution_count": 73,
      "outputs": []
    },
    {
      "cell_type": "code",
      "metadata": {
        "id": "CeBsQ_Worc2I"
      },
      "source": [
        "# Make test data\n",
        "\n",
        "x_10_1a = norm.rvs(size = 10, loc = 10, scale = 1)\n",
        "x_10_1b = norm.rvs(size = 10, loc = 10, scale = 1)\n",
        "x_13_1a = norm.rvs(size = 10, loc = 13, scale = 1)"
      ],
      "execution_count": 77,
      "outputs": []
    },
    {
      "cell_type": "code",
      "metadata": {
        "colab": {
          "base_uri": "https://localhost:8080/"
        },
        "id": "LGFSIAt1F7gz",
        "outputId": "0baa30ae-c471-45d6-d11c-119ca8b9d7e1"
      },
      "source": [
        "paired_permute(x_10_1a, x_10_1b)"
      ],
      "execution_count": 78,
      "outputs": [
        {
          "output_type": "stream",
          "name": "stdout",
          "text": [
            "t_score: -0.8302769729446882\n",
            "P_value: 0.384\n"
          ]
        },
        {
          "output_type": "execute_result",
          "data": {
            "text/plain": [
              "{'P_value': 0.384, 't_score': -0.8302769729446882}"
            ]
          },
          "metadata": {},
          "execution_count": 78
        }
      ]
    },
    {
      "cell_type": "code",
      "metadata": {
        "colab": {
          "base_uri": "https://localhost:8080/"
        },
        "id": "u0IUK-1gOQKd",
        "outputId": "dd3ae0e3-8db9-4380-cd6a-4ea524f7ba7a"
      },
      "source": [
        "paired_permute(x_10_1a, x_10_1b, alternative = \"greater\")"
      ],
      "execution_count": 79,
      "outputs": [
        {
          "output_type": "stream",
          "name": "stdout",
          "text": [
            "t_score: -0.8302769729446882\n",
            "P_value: 0.787\n"
          ]
        },
        {
          "output_type": "execute_result",
          "data": {
            "text/plain": [
              "{'P_value': 0.787, 't_score': -0.8302769729446882}"
            ]
          },
          "metadata": {},
          "execution_count": 79
        }
      ]
    },
    {
      "cell_type": "code",
      "metadata": {
        "colab": {
          "base_uri": "https://localhost:8080/"
        },
        "id": "9o8WnNfaOWXL",
        "outputId": "13b9ebe5-1105-448c-a6d4-af5663f52c8a"
      },
      "source": [
        "paired_permute(x_10_1a, x_10_1b, alternative = \"less\")"
      ],
      "execution_count": 80,
      "outputs": [
        {
          "output_type": "stream",
          "name": "stdout",
          "text": [
            "t_score: -0.8302769729446882\n",
            "P_value: 0.206\n"
          ]
        },
        {
          "output_type": "execute_result",
          "data": {
            "text/plain": [
              "{'P_value': 0.206, 't_score': -0.8302769729446882}"
            ]
          },
          "metadata": {},
          "execution_count": 80
        }
      ]
    },
    {
      "cell_type": "code",
      "metadata": {
        "colab": {
          "base_uri": "https://localhost:8080/"
        },
        "id": "qphMWEkJOgPK",
        "outputId": "e1013f68-ee17-4a47-964a-fe1c07cb2d6c"
      },
      "source": [
        "paired_permute(x_10_1a, x_10_1b, alternative = \"less\", nsims =  9999)"
      ],
      "execution_count": 81,
      "outputs": [
        {
          "output_type": "stream",
          "name": "stdout",
          "text": [
            "t_score: -0.8302769729446882\n",
            "P_value: 0.2055\n"
          ]
        },
        {
          "output_type": "execute_result",
          "data": {
            "text/plain": [
              "{'P_value': 0.2055, 't_score': -0.8302769729446882}"
            ]
          },
          "metadata": {},
          "execution_count": 81
        }
      ]
    },
    {
      "cell_type": "code",
      "metadata": {
        "colab": {
          "base_uri": "https://localhost:8080/"
        },
        "id": "-822Ax5dOqrN",
        "outputId": "c8a402a2-ce1c-4a73-979e-21384fa1f7fe"
      },
      "source": [
        "paired_permute(x_10_1a, x_13_1a)"
      ],
      "execution_count": 85,
      "outputs": [
        {
          "output_type": "stream",
          "name": "stdout",
          "text": [
            "t_score: -6.3509949529748235\n",
            "P_value: 0.004\n"
          ]
        },
        {
          "output_type": "execute_result",
          "data": {
            "text/plain": [
              "{'P_value': 0.004, 't_score': -6.3509949529748235}"
            ]
          },
          "metadata": {},
          "execution_count": 85
        }
      ]
    },
    {
      "cell_type": "code",
      "metadata": {
        "colab": {
          "base_uri": "https://localhost:8080/"
        },
        "id": "wX_I3y69PYPm",
        "outputId": "849ab313-2d91-42bd-e890-7c0e74ccce83"
      },
      "source": [
        "paired_permute(x_10_1a, x_13_1a, alternative = \"less\")"
      ],
      "execution_count": 84,
      "outputs": [
        {
          "output_type": "stream",
          "name": "stdout",
          "text": [
            "t_score: -6.3509949529748235\n",
            "P_value: 0.001\n"
          ]
        },
        {
          "output_type": "execute_result",
          "data": {
            "text/plain": [
              "{'P_value': 0.001, 't_score': -6.3509949529748235}"
            ]
          },
          "metadata": {},
          "execution_count": 84
        }
      ]
    },
    {
      "cell_type": "code",
      "metadata": {
        "colab": {
          "base_uri": "https://localhost:8080/"
        },
        "id": "jic8dOYQPf6P",
        "outputId": "b75d6b37-0a7a-4b2e-c37b-ec5bae207c40"
      },
      "source": [
        "paired_permute(x_10_1a, x_13_1a, alternative = \"greater\")"
      ],
      "execution_count": 86,
      "outputs": [
        {
          "output_type": "stream",
          "name": "stdout",
          "text": [
            "t_score: -6.3509949529748235\n",
            "P_value: 1.0\n"
          ]
        },
        {
          "output_type": "execute_result",
          "data": {
            "text/plain": [
              "{'P_value': 1.0, 't_score': -6.3509949529748235}"
            ]
          },
          "metadata": {},
          "execution_count": 86
        }
      ]
    },
    {
      "cell_type": "code",
      "metadata": {
        "id": "2-shpS_LPq4F"
      },
      "source": [
        ""
      ],
      "execution_count": null,
      "outputs": []
    }
  ]
}