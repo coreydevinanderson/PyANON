{
  "nbformat": 4,
  "nbformat_minor": 0,
  "metadata": {
    "colab": {
      "name": "sign_test.ipynb",
      "provenance": [],
      "collapsed_sections": []
    },
    "kernelspec": {
      "display_name": "Python 3",
      "name": "python3"
    },
    "language_info": {
      "name": "python"
    }
  },
  "cells": [
    {
      "cell_type": "code",
      "metadata": {
        "id": "EbElut6npXlv"
      },
      "source": [
        "import csv\n",
        "import pandas as pd\n",
        "import numpy as np\n",
        "from scipy.stats import binom, norm\n",
        "import statistics as st"
      ],
      "execution_count": 26,
      "outputs": []
    },
    {
      "cell_type": "code",
      "metadata": {
        "id": "N7-iFO5ILxNZ"
      },
      "source": [
        "def sign_test(x, y = None, md = 0, alternative = \"two_sided\"):\n",
        "\n",
        "  # One sample sign test\n",
        "  if y is None:\n",
        "    \n",
        "    x_minus_md = [(i - md) for i in x]\n",
        "    x_md_clean = [j for j in x_minus_md if j != 0]  # remove the zeroes\n",
        "    n_adj = len(x_md_clean)  # sample size after removing the zeroes\n",
        "    pos_count = len([k for k in x_md_clean if k > 0])\n",
        "\n",
        "    med_count = st.median(np.arange(0, n_adj + 1))\n",
        "    \n",
        "    if (alternative == \"two_sided\") and (pos_count >= med_count):\n",
        "      p_val = 2 * (1 - binom.cdf((pos_count - 1), n_adj, 0.5))\n",
        "    elif pos_count < med_count:\n",
        "      p_val = 2 * binom.cdf(pos_count, n_adj, 0.5)\n",
        "  \n",
        "    if alternative == \"greater\":\n",
        "      p_val = 1 - binom.cdf(pos_count, n_adj, 0.5)\n",
        "    elif alternative == \"less\":\n",
        "      p_val = binom.cdf(pos_count, n_adj, 0.5)\n",
        "      \n",
        "  # Paired sign test\n",
        "  elif y is not None:\n",
        "    \n",
        "    xx = np.array(x)\n",
        "    yy = np.array(y)\n",
        "    diff = xx - yy\n",
        "    diff_list = diff.tolist()\n",
        "    diff_clean = [j for j in diff_list if j != 0]\n",
        "    n_adj = len(diff_clean)\n",
        "    pos_count = len([k for k in diff_clean if k > 0])\n",
        "\n",
        "    med_count = st.median(np.arange(0, n_adj + 1))\n",
        "\n",
        "    if (alternative == \"two_sided\") and (pos_count >= med_count):\n",
        "      p_val = 2 * (1 - binom.cdf((pos_count - 1), n_adj, 0.5))\n",
        "    elif pos_count < med_count:\n",
        "      p_val = 2 * binom.cdf(pos_count, n_adj, 0.5)\n",
        "\n",
        "    if alternative == \"greater\":\n",
        "      p_val = 1 - binom.cdf(pos_count, n_adj, 0.5)\n",
        "    elif alternative == \"less\":\n",
        "      p_val = binom.cdf(pos_count, n_adj, 0.5)\n",
        "\n",
        "  print(med_count) \n",
        "  print(f\"Number of positives: {pos_count} out of a sample size of {n_adj}\")\n",
        "  return(print(f\"P_value: {p_val}\"))\n"
      ],
      "execution_count": 32,
      "outputs": []
    },
    {
      "cell_type": "code",
      "metadata": {
        "id": "teR_BjfKogNJ"
      },
      "source": [
        "url = \"/content/drive/MyDrive/Resources/Pine_stand.csv\"\n",
        "df = pd.read_csv(url)"
      ],
      "execution_count": 4,
      "outputs": []
    },
    {
      "cell_type": "code",
      "metadata": {
        "id": "Qu5_SxCaMB6w"
      },
      "source": [
        "# Test data for one sample sign test\n",
        "lob_dbh = df[df[\"Species\"] == \"Loblolly pine\"].dbh.to_list()\n",
        "slash_dbh = df[df[\"Species\"] == \"Slash pine\"].dbh.to_list()\n"
      ],
      "execution_count": 5,
      "outputs": []
    },
    {
      "cell_type": "code",
      "metadata": {
        "colab": {
          "base_uri": "https://localhost:8080/",
          "height": 0
        },
        "id": "1mXWSHDHbkKg",
        "outputId": "ed3ba6ca-4cfd-48f9-8f75-61ac5cc27db6"
      },
      "source": [
        "# Actual medians for testing\n",
        "print(df[df[\"Species\"] == \"Loblolly pine\"].dbh.median())\n",
        "print(df[df[\"Species\"] == \"Slash pine\"].dbh.median())\n"
      ],
      "execution_count": 6,
      "outputs": [
        {
          "output_type": "stream",
          "name": "stdout",
          "text": [
            "45.0\n",
            "34.0\n"
          ]
        }
      ]
    },
    {
      "cell_type": "code",
      "metadata": {
        "id": "4GE9MtCkBrZb"
      },
      "source": [
        "# Test data for paired sign test\n",
        "test1 = norm.rvs(size = 10, loc = 5, scale = 1)\n",
        "test2 = norm.rvs(size = 10, loc = 5, scale = 1)\n",
        "test3 = norm.rvs(size = 10, loc = 7, scale = 1)"
      ],
      "execution_count": 33,
      "outputs": []
    },
    {
      "cell_type": "code",
      "metadata": {
        "colab": {
          "base_uri": "https://localhost:8080/",
          "height": 0
        },
        "id": "FjyxBiLzhr0G",
        "outputId": "3fa552fa-a1fe-4812-80b7-5db8baa02ae8"
      },
      "source": [
        "sign_test(lob_dbh, md = 45)"
      ],
      "execution_count": 34,
      "outputs": [
        {
          "output_type": "stream",
          "name": "stdout",
          "text": [
            "40.5\n",
            "Number of positives: 39 out of a sample size of 81\n",
            "P_value: 0.8243132151052075\n"
          ]
        }
      ]
    },
    {
      "cell_type": "code",
      "metadata": {
        "colab": {
          "base_uri": "https://localhost:8080/",
          "height": 0
        },
        "id": "tFjpwWgXX8o9",
        "outputId": "d5423a7f-ec47-4d42-9352-10f2e949cede"
      },
      "source": [
        "sign_test(lob_dbh, md = 30)"
      ],
      "execution_count": 35,
      "outputs": [
        {
          "output_type": "stream",
          "name": "stdout",
          "text": [
            "41.5\n",
            "Number of positives: 72 out of a sample size of 83\n",
            "P_value: 3.9181990985071025e-12\n"
          ]
        }
      ]
    },
    {
      "cell_type": "code",
      "metadata": {
        "colab": {
          "base_uri": "https://localhost:8080/",
          "height": 0
        },
        "id": "nUDTyYakz8_7",
        "outputId": "22b7b59d-d23e-493a-aec4-6cb52298b8db"
      },
      "source": [
        "2* (1 - binom.cdf(72, 83, 0.5))"
      ],
      "execution_count": 31,
      "outputs": [
        {
          "output_type": "execute_result",
          "data": {
            "text/plain": [
              "5.799805080641818e-13"
            ]
          },
          "metadata": {},
          "execution_count": 31
        }
      ]
    },
    {
      "cell_type": "code",
      "metadata": {
        "colab": {
          "base_uri": "https://localhost:8080/",
          "height": 0
        },
        "id": "R89FvCm2OQg-",
        "outputId": "f2050956-2535-4e8b-954c-5cb5bff1ebd1"
      },
      "source": [
        "sign_test(x = test1, y = test2)"
      ],
      "execution_count": 20,
      "outputs": [
        {
          "output_type": "stream",
          "name": "stdout",
          "text": [
            "trigger1\n",
            "5\n",
            "Number of positives: 6 out of a sample size of 10\n",
            "P_value: 0.34375\n"
          ]
        }
      ]
    },
    {
      "cell_type": "code",
      "metadata": {
        "id": "KM7Sa96DXV03",
        "colab": {
          "base_uri": "https://localhost:8080/",
          "height": 0
        },
        "outputId": "ccd9c896-3558-41b3-fe8f-d1e6dc5fe52d"
      },
      "source": [
        "sign_test(x = test1, y = test2, alternative = \"greater\")"
      ],
      "execution_count": 21,
      "outputs": [
        {
          "output_type": "stream",
          "name": "stdout",
          "text": [
            "5\n",
            "Number of positives: 6 out of a sample size of 10\n",
            "P_value: 0.171875\n"
          ]
        }
      ]
    },
    {
      "cell_type": "code",
      "metadata": {
        "colab": {
          "base_uri": "https://localhost:8080/",
          "height": 0
        },
        "id": "ajTaRlMJa9Qo",
        "outputId": "c068a4f4-84d0-4d28-9268-11e1947d3c0d"
      },
      "source": [
        "sign_test(x = test1, y = test2, alternative = \"less\")"
      ],
      "execution_count": 22,
      "outputs": [
        {
          "output_type": "stream",
          "name": "stdout",
          "text": [
            "5\n",
            "Number of positives: 6 out of a sample size of 10\n",
            "P_value: 0.828125\n"
          ]
        }
      ]
    },
    {
      "cell_type": "code",
      "metadata": {
        "colab": {
          "base_uri": "https://localhost:8080/",
          "height": 0
        },
        "id": "13U1gXdwbBlg",
        "outputId": "a75707ea-e24f-4fbb-9842-6204b69dc3cd"
      },
      "source": [
        "# note potentially low power in this case\n",
        "sign_test(x = test1, y = test3)"
      ],
      "execution_count": 25,
      "outputs": [
        {
          "output_type": "stream",
          "name": "stdout",
          "text": [
            "trigger2\n",
            "5\n",
            "Number of positives: 1 out of a sample size of 10\n",
            "P_value: 0.021484374999999997\n"
          ]
        }
      ]
    }
  ]
}