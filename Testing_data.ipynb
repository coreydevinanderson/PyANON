{
  "nbformat": 4,
  "nbformat_minor": 0,
  "metadata": {
    "colab": {
      "name": "Testing_data.ipynb",
      "provenance": [],
      "collapsed_sections": []
    },
    "kernelspec": {
      "name": "python3",
      "display_name": "Python 3"
    },
    "language_info": {
      "name": "python"
    }
  },
  "cells": [
    {
      "cell_type": "markdown",
      "metadata": {
        "id": "UOgpmxGA9bs5"
      },
      "source": [
        "### Test data for sign_test() and paired_permute() functions:"
      ]
    },
    {
      "cell_type": "markdown",
      "metadata": {
        "id": "nuNi3OZa916K"
      },
      "source": [
        "* Pine_stand data from Lake Louise Field Station in Lowndes County, Georgia.\n",
        "  * Subset Species column and select dbh vector."
      ]
    },
    {
      "cell_type": "code",
      "metadata": {
        "id": "50bMIOtO-0Dy"
      },
      "source": [
        "import pandas as pd\n",
        "from scipy.stats import norm"
      ],
      "execution_count": 8,
      "outputs": []
    },
    {
      "cell_type": "code",
      "metadata": {
        "id": "xYjiD0e39ag7"
      },
      "source": [
        "# If stored on Google Drive (or other path)\n",
        "# Adjust as required\n",
        "url = \"/content/drive/MyDrive/Resources/Pine_stand.csv\""
      ],
      "execution_count": 6,
      "outputs": []
    },
    {
      "cell_type": "code",
      "metadata": {
        "id": "-HLdzA7g-eVi"
      },
      "source": [
        "# To read via pandas DataFrame\n",
        "df = pd.read_csv(url)"
      ],
      "execution_count": 10,
      "outputs": []
    },
    {
      "cell_type": "code",
      "metadata": {
        "id": "dBgD-cdX9XqY"
      },
      "source": [
        "# Extract dbh columns for each subset species as a list.\n",
        "lob_dbh = df[df[\"Species\"] == \"Loblolly pine\"].dbh.to_list()\n",
        "slash_dbh = df[df[\"Species\"] == \"Slash pine\"].dbh.to_list()"
      ],
      "execution_count": 11,
      "outputs": []
    },
    {
      "cell_type": "code",
      "metadata": {
        "colab": {
          "base_uri": "https://localhost:8080/"
        },
        "id": "NRtWyoJt__X5",
        "outputId": "01f7d112-54f0-491f-e00b-f65de501a7e5"
      },
      "source": [
        "# Actual medians for testing\n",
        "print(\"Loblolly median dbh:\")\n",
        "print(df[df[\"Species\"] == \"Loblolly pine\"].dbh.median())\n",
        "print(\"Slash median dbh:\")\n",
        "print(df[df[\"Species\"] == \"Slash pine\"].dbh.median())"
      ],
      "execution_count": 22,
      "outputs": [
        {
          "output_type": "stream",
          "name": "stdout",
          "text": [
            "Loblolly median dbh:\n",
            "45.0\n",
            "Slash median dbh:\n",
            "34.0\n"
          ]
        }
      ]
    },
    {
      "cell_type": "markdown",
      "metadata": {
        "id": "Ilh2D5gOBBzP"
      },
      "source": [
        "* Simulate data from normal distribution.\n",
        "  * Use this to evaluate paired tests."
      ]
    },
    {
      "cell_type": "code",
      "metadata": {
        "id": "498ll_ZgAYR4"
      },
      "source": [
        "# Test data for paired sign test or paired permute\n",
        "test1 = norm.rvs(size = 10, loc = 5, scale = 1)\n",
        "test2 = norm.rvs(size = 10, loc = 5, scale = 1)\n",
        "test3 = norm.rvs(size = 10, loc = 8, scale = 1)"
      ],
      "execution_count": 23,
      "outputs": []
    },
    {
      "cell_type": "markdown",
      "metadata": {
        "id": "jzQtn28NA3q9"
      },
      "source": [
        "#### One sample sign test:"
      ]
    },
    {
      "cell_type": "code",
      "metadata": {
        "id": "HPLbjNOQAqaw"
      },
      "source": [
        "sign_test(lob_dbh, md = 45)  # default is \"two_sided\"\n",
        "sign_test(lob_dbh, md = 30)"
      ],
      "execution_count": null,
      "outputs": []
    },
    {
      "cell_type": "markdown",
      "metadata": {
        "id": "SuoAWV3pBfMn"
      },
      "source": [
        "### Paired sign test:"
      ]
    },
    {
      "cell_type": "code",
      "metadata": {
        "id": "sFjZ5zxbAz8v"
      },
      "source": [
        "sign_test(x = test1, y = test2)\n",
        "sign_test(x = test1, y = test2, alternative = \"greater\")\n",
        "sign_test(x = test1, y = test2, alternative = \"less\")\n",
        "sign_test(x = test1, y = test3)"
      ],
      "execution_count": null,
      "outputs": []
    },
    {
      "cell_type": "markdown",
      "metadata": {
        "id": "82KjmcekCb3_"
      },
      "source": [
        "### Paired permutation test:"
      ]
    },
    {
      "cell_type": "code",
      "metadata": {
        "id": "n-7WHN6DCdmn"
      },
      "source": [
        "paired_permute(test1, test2)\n",
        "paired_permute(test1, test2, alternative = \"greater\")\n",
        "paired_permute(test1, test2, alternative = \"less\")\n",
        "paired_permute(test1, test2, alternative = \"less\", nsims = 9999)\n",
        "paired_permute(test1, test3, alternative = \"less\")"
      ],
      "execution_count": null,
      "outputs": []
    }
  ]
}